{
 "cells": [
  {
   "cell_type": "markdown",
   "id": "0d70f7d1-d6e1-4ebf-a5aa-1bea70f5241e",
   "metadata": {},
   "source": [
    "# 直行表を作る"
   ]
  },
  {
   "cell_type": "code",
   "execution_count": 1,
   "id": "712459ca-1282-4ade-8160-7dde045a2959",
   "metadata": {},
   "outputs": [],
   "source": [
    "import pandas as pd\n"
   ]
  },
  {
   "cell_type": "code",
   "execution_count": 2,
   "id": "4f9914ae-1147-4604-adc3-02175ee2cfb8",
   "metadata": {},
   "outputs": [
    {
     "name": "stdout",
     "output_type": "stream",
     "text": [
      "             OS（ブランド）    バッテリー   画面サイズ   価格\n",
      "0              iPhone  3000mAh    5インチ  6万円\n",
      "1         Android（一般）  4500mAh    6インチ  13万\n",
      "2  Galaxy M51（高バッテリー）  6500mAh  6.8インチ  24万\n"
     ]
    }
   ],
   "source": [
    "#=============================================\n",
    "# CSVを読み込む\n",
    "#=============================================\n",
    "levels_df = pd.read_csv(\"levels.csv\")\n",
    "print(levels_df)\n"
   ]
  },
  {
   "cell_type": "code",
   "execution_count": 3,
   "id": "75ec0b11-d779-45cc-871b-9c5b6da5191a",
   "metadata": {},
   "outputs": [
    {
     "name": "stdout",
     "output_type": "stream",
     "text": [
      "{'OS（ブランド）': ['iPhone', 'Android（一般）', 'Galaxy M51（高バッテリー）']}\n",
      "{'OS（ブランド）': ['iPhone', 'Android（一般）', 'Galaxy M51（高バッテリー）'], 'バッテリー': ['3000mAh', '4500mAh', '6500mAh']}\n",
      "{'OS（ブランド）': ['iPhone', 'Android（一般）', 'Galaxy M51（高バッテリー）'], 'バッテリー': ['3000mAh', '4500mAh', '6500mAh'], '画面サイズ': ['5インチ', '6インチ', '6.8インチ']}\n",
      "{'OS（ブランド）': ['iPhone', 'Android（一般）', 'Galaxy M51（高バッテリー）'], 'バッテリー': ['3000mAh', '4500mAh', '6500mAh'], '画面サイズ': ['5インチ', '6インチ', '6.8インチ'], '価格': ['6万円', '13万', '24万']}\n"
     ]
    }
   ],
   "source": [
    "#=============================================\n",
    "# 各列ごとにユニーク値（非NA）を水準として抽出\n",
    "#=============================================\n",
    "factor_levels = {}\n",
    "for col in levels_df.columns:\n",
    "    unique_levels = levels_df[col].dropna().unique().tolist()\n",
    "    factor_levels[col] = unique_levels\n",
    "\n",
    "    print(factor_levels)"
   ]
  },
  {
   "cell_type": "code",
   "execution_count": 4,
   "id": "b6d44b1e-f644-4dff-b83f-9f25fcfd234c",
   "metadata": {},
   "outputs": [
    {
     "name": "stdout",
     "output_type": "stream",
     "text": [
      "['iPhone', 'Android（一般）', 'Galaxy M51（高バッテリー）']\n",
      "['3000mAh', '4500mAh', '6500mAh']\n",
      "['5インチ', '6インチ', '6.8インチ']\n",
      "['6万円', '13万', '24万']\n"
     ]
    }
   ],
   "source": [
    "#=============================================\n",
    "# 因子ごとにユニークな水準リストを作る\n",
    "#=============================================\n",
    "factor_levels = {}\n",
    "for col in levels_df.columns:\n",
    "    factor_levels[col] = levels_df[col].dropna().unique().tolist()\n",
    "    print(factor_levels[col])"
   ]
  },
  {
   "cell_type": "code",
   "execution_count": 5,
   "id": "9a436301-7f42-49fe-a5d5-c53b3c3f9fed",
   "metadata": {},
   "outputs": [],
   "source": [
    "#=============================================\n",
    "# L9直交表の水準番号（0始まり）\n",
    "#=============================================\n",
    "orthogonal_index = [\n",
    "    [0, 0, 0, 0], \n",
    "    [0, 1, 1, 1], \n",
    "    [0, 2, 2, 2], \n",
    "    [1, 0, 1, 2], \n",
    "    [1, 1, 2, 0], \n",
    "    [1, 2, 0, 1], \n",
    "    [2, 0, 2, 1], \n",
    "    [2, 1, 0, 2], \n",
    "    [2, 2, 1, 0],\n",
    "]"
   ]
  },
  {
   "cell_type": "code",
   "execution_count": 6,
   "id": "bd901cc1-1988-4f56-a0b4-822d90bad95e",
   "metadata": {},
   "outputs": [
    {
     "data": {
      "text/plain": [
       "['OS（ブランド）', 'バッテリー', '画面サイズ', '価格']"
      ]
     },
     "execution_count": 6,
     "metadata": {},
     "output_type": "execute_result"
    }
   ],
   "source": [
    "#=============================================\n",
    "# 直交表を作る順番を決める\n",
    "#=============================================\n",
    "# 必ず factor_levels の全列を使う\n",
    "selected_factors = list(factor_levels.keys()) \n",
    "\n",
    "selected_factors"
   ]
  },
  {
   "cell_type": "code",
   "execution_count": 7,
   "id": "181fa542-79e8-4017-a072-ceef770ca8c4",
   "metadata": {},
   "outputs": [
    {
     "data": {
      "text/plain": [
       "[['iPhone', 'Android（一般）', 'Galaxy M51（高バッテリー）'],\n",
       " ['3000mAh', '4500mAh', '6500mAh'],\n",
       " ['5インチ', '6インチ', '6.8インチ'],\n",
       " ['6万円', '13万', '24万']]"
      ]
     },
     "execution_count": 7,
     "metadata": {},
     "output_type": "execute_result"
    }
   ],
   "source": [
    "#=============================================\n",
    "# 水準リストも順番を合わせる\n",
    "#=============================================\n",
    "selected_levels = [factor_levels[f] for f in selected_factors]\n",
    "\n",
    "selected_levels"
   ]
  },
  {
   "cell_type": "code",
   "execution_count": null,
   "id": "21b85957-9adc-45c0-9c67-b3a0ce147a79",
   "metadata": {},
   "outputs": [],
   "source": []
  },
  {
   "cell_type": "code",
   "execution_count": 8,
   "id": "6bd24671-e448-422e-87a0-d8f3813abfab",
   "metadata": {},
   "outputs": [
    {
     "data": {
      "text/html": [
       "<div>\n",
       "<style scoped>\n",
       "    .dataframe tbody tr th:only-of-type {\n",
       "        vertical-align: middle;\n",
       "    }\n",
       "\n",
       "    .dataframe tbody tr th {\n",
       "        vertical-align: top;\n",
       "    }\n",
       "\n",
       "    .dataframe thead th {\n",
       "        text-align: right;\n",
       "    }\n",
       "</style>\n",
       "<table border=\"1\" class=\"dataframe\">\n",
       "  <thead>\n",
       "    <tr style=\"text-align: right;\">\n",
       "      <th></th>\n",
       "      <th>OS（ブランド）</th>\n",
       "      <th>バッテリー</th>\n",
       "      <th>画面サイズ</th>\n",
       "      <th>価格</th>\n",
       "    </tr>\n",
       "  </thead>\n",
       "  <tbody>\n",
       "    <tr>\n",
       "      <th>0</th>\n",
       "      <td>iPhone</td>\n",
       "      <td>3000mAh</td>\n",
       "      <td>5インチ</td>\n",
       "      <td>6万円</td>\n",
       "    </tr>\n",
       "    <tr>\n",
       "      <th>1</th>\n",
       "      <td>iPhone</td>\n",
       "      <td>4500mAh</td>\n",
       "      <td>6インチ</td>\n",
       "      <td>13万</td>\n",
       "    </tr>\n",
       "    <tr>\n",
       "      <th>2</th>\n",
       "      <td>iPhone</td>\n",
       "      <td>6500mAh</td>\n",
       "      <td>6.8インチ</td>\n",
       "      <td>24万</td>\n",
       "    </tr>\n",
       "    <tr>\n",
       "      <th>3</th>\n",
       "      <td>Android（一般）</td>\n",
       "      <td>3000mAh</td>\n",
       "      <td>6インチ</td>\n",
       "      <td>24万</td>\n",
       "    </tr>\n",
       "    <tr>\n",
       "      <th>4</th>\n",
       "      <td>Android（一般）</td>\n",
       "      <td>4500mAh</td>\n",
       "      <td>6.8インチ</td>\n",
       "      <td>6万円</td>\n",
       "    </tr>\n",
       "    <tr>\n",
       "      <th>5</th>\n",
       "      <td>Android（一般）</td>\n",
       "      <td>6500mAh</td>\n",
       "      <td>5インチ</td>\n",
       "      <td>13万</td>\n",
       "    </tr>\n",
       "    <tr>\n",
       "      <th>6</th>\n",
       "      <td>Galaxy M51（高バッテリー）</td>\n",
       "      <td>3000mAh</td>\n",
       "      <td>6.8インチ</td>\n",
       "      <td>13万</td>\n",
       "    </tr>\n",
       "    <tr>\n",
       "      <th>7</th>\n",
       "      <td>Galaxy M51（高バッテリー）</td>\n",
       "      <td>4500mAh</td>\n",
       "      <td>5インチ</td>\n",
       "      <td>24万</td>\n",
       "    </tr>\n",
       "    <tr>\n",
       "      <th>8</th>\n",
       "      <td>Galaxy M51（高バッテリー）</td>\n",
       "      <td>6500mAh</td>\n",
       "      <td>6インチ</td>\n",
       "      <td>6万円</td>\n",
       "    </tr>\n",
       "  </tbody>\n",
       "</table>\n",
       "</div>"
      ],
      "text/plain": [
       "             OS（ブランド）    バッテリー   画面サイズ   価格\n",
       "0              iPhone  3000mAh    5インチ  6万円\n",
       "1              iPhone  4500mAh    6インチ  13万\n",
       "2              iPhone  6500mAh  6.8インチ  24万\n",
       "3         Android（一般）  3000mAh    6インチ  24万\n",
       "4         Android（一般）  4500mAh  6.8インチ  6万円\n",
       "5         Android（一般）  6500mAh    5インチ  13万\n",
       "6  Galaxy M51（高バッテリー）  3000mAh  6.8インチ  13万\n",
       "7  Galaxy M51（高バッテリー）  4500mAh    5インチ  24万\n",
       "8  Galaxy M51（高バッテリー）  6500mAh    6インチ  6万円"
      ]
     },
     "execution_count": 8,
     "metadata": {},
     "output_type": "execute_result"
    }
   ],
   "source": [
    "#=============================================\n",
    "# L9のインデックスを水準値に変換しながら直交表を作成\n",
    "#=============================================\n",
    "data_OA = []\n",
    "for row in orthogonal_index:\n",
    "    entry = [selected_levels[i][row[i]] for i in range(len(selected_factors))]\n",
    "    data_OA.append(entry)\n",
    "\n",
    "# DataFrame化（列名も元の因子名のまま）\n",
    "df_OA = pd.DataFrame(data_OA, columns=selected_factors)\n",
    "df_OA \n"
   ]
  },
  {
   "cell_type": "code",
   "execution_count": null,
   "id": "e63d3b1f-0175-40d7-bf49-a27e05f2b497",
   "metadata": {},
   "outputs": [],
   "source": []
  },
  {
   "cell_type": "code",
   "execution_count": null,
   "id": "aa7af8bd-3da5-4237-bee9-7439625881e6",
   "metadata": {},
   "outputs": [],
   "source": []
  },
  {
   "cell_type": "code",
   "execution_count": 9,
   "id": "1e264737-b781-406a-bda6-676c835782e7",
   "metadata": {},
   "outputs": [
    {
     "data": {
      "text/html": [
       "<div>\n",
       "<style scoped>\n",
       "    .dataframe tbody tr th:only-of-type {\n",
       "        vertical-align: middle;\n",
       "    }\n",
       "\n",
       "    .dataframe tbody tr th {\n",
       "        vertical-align: top;\n",
       "    }\n",
       "\n",
       "    .dataframe thead th {\n",
       "        text-align: right;\n",
       "    }\n",
       "</style>\n",
       "<table border=\"1\" class=\"dataframe\">\n",
       "  <thead>\n",
       "    <tr style=\"text-align: right;\">\n",
       "      <th></th>\n",
       "      <th>0</th>\n",
       "      <th>1</th>\n",
       "      <th>2</th>\n",
       "      <th>3</th>\n",
       "      <th>4</th>\n",
       "      <th>5</th>\n",
       "      <th>6</th>\n",
       "      <th>7</th>\n",
       "      <th>8</th>\n",
       "    </tr>\n",
       "  </thead>\n",
       "  <tbody>\n",
       "    <tr>\n",
       "      <th>OS（ブランド）</th>\n",
       "      <td>iPhone</td>\n",
       "      <td>iPhone</td>\n",
       "      <td>iPhone</td>\n",
       "      <td>Android（一般）</td>\n",
       "      <td>Android（一般）</td>\n",
       "      <td>Android（一般）</td>\n",
       "      <td>Galaxy M51（高バッテリー）</td>\n",
       "      <td>Galaxy M51（高バッテリー）</td>\n",
       "      <td>Galaxy M51（高バッテリー）</td>\n",
       "    </tr>\n",
       "    <tr>\n",
       "      <th>バッテリー</th>\n",
       "      <td>3000mAh</td>\n",
       "      <td>4500mAh</td>\n",
       "      <td>6500mAh</td>\n",
       "      <td>3000mAh</td>\n",
       "      <td>4500mAh</td>\n",
       "      <td>6500mAh</td>\n",
       "      <td>3000mAh</td>\n",
       "      <td>4500mAh</td>\n",
       "      <td>6500mAh</td>\n",
       "    </tr>\n",
       "    <tr>\n",
       "      <th>画面サイズ</th>\n",
       "      <td>5インチ</td>\n",
       "      <td>6インチ</td>\n",
       "      <td>6.8インチ</td>\n",
       "      <td>6インチ</td>\n",
       "      <td>6.8インチ</td>\n",
       "      <td>5インチ</td>\n",
       "      <td>6.8インチ</td>\n",
       "      <td>5インチ</td>\n",
       "      <td>6インチ</td>\n",
       "    </tr>\n",
       "    <tr>\n",
       "      <th>価格</th>\n",
       "      <td>6万円</td>\n",
       "      <td>13万</td>\n",
       "      <td>24万</td>\n",
       "      <td>24万</td>\n",
       "      <td>6万円</td>\n",
       "      <td>13万</td>\n",
       "      <td>13万</td>\n",
       "      <td>24万</td>\n",
       "      <td>6万円</td>\n",
       "    </tr>\n",
       "  </tbody>\n",
       "</table>\n",
       "</div>"
      ],
      "text/plain": [
       "                0        1        2            3            4            5  \\\n",
       "OS（ブランド）   iPhone   iPhone   iPhone  Android（一般）  Android（一般）  Android（一般）   \n",
       "バッテリー     3000mAh  4500mAh  6500mAh      3000mAh      4500mAh      6500mAh   \n",
       "画面サイズ        5インチ     6インチ   6.8インチ         6インチ       6.8インチ         5インチ   \n",
       "価格            6万円      13万      24万          24万          6万円          13万   \n",
       "\n",
       "                           6                   7                   8  \n",
       "OS（ブランド）  Galaxy M51（高バッテリー）  Galaxy M51（高バッテリー）  Galaxy M51（高バッテリー）  \n",
       "バッテリー                3000mAh             4500mAh             6500mAh  \n",
       "画面サイズ                 6.8インチ                5インチ                6インチ  \n",
       "価格                       13万                 24万                 6万円  "
      ]
     },
     "execution_count": 9,
     "metadata": {},
     "output_type": "execute_result"
    }
   ],
   "source": [
    "#=============================================\n",
    "# コンジョイント分析用に行列入れ替えます\n",
    "#=============================================\n",
    "df_OA = df_OA.T\n",
    "#=============================================\n",
    "#保存\n",
    "#=============================================\n",
    "df_OA.to_csv(\"直交表.csv\", index=True, encoding=\"utf-8-sig\")\n",
    "df_OA"
   ]
  },
  {
   "cell_type": "code",
   "execution_count": null,
   "id": "1ebec1c0-f921-4ea0-854f-3f1f1e4d941d",
   "metadata": {},
   "outputs": [],
   "source": []
  },
  {
   "cell_type": "code",
   "execution_count": null,
   "id": "46ededfc-80e1-4bc0-b8be-15028979ab2d",
   "metadata": {},
   "outputs": [],
   "source": []
  },
  {
   "cell_type": "code",
   "execution_count": null,
   "id": "2f78d906-8c22-4fba-beff-4abdfbed1763",
   "metadata": {},
   "outputs": [],
   "source": []
  },
  {
   "cell_type": "code",
   "execution_count": null,
   "id": "8169e53c-edff-4759-a5ea-748370025827",
   "metadata": {},
   "outputs": [],
   "source": []
  },
  {
   "cell_type": "code",
   "execution_count": null,
   "id": "adfa617d-29ef-4d5a-b69e-57165d115e4b",
   "metadata": {},
   "outputs": [],
   "source": []
  },
  {
   "cell_type": "code",
   "execution_count": null,
   "id": "316e13de-9059-46f5-bcc2-4414d66f3e18",
   "metadata": {},
   "outputs": [],
   "source": []
  }
 ],
 "metadata": {
  "kernelspec": {
   "display_name": "Python 3 (ipykernel)",
   "language": "python",
   "name": "python3"
  },
  "language_info": {
   "codemirror_mode": {
    "name": "ipython",
    "version": 3
   },
   "file_extension": ".py",
   "mimetype": "text/x-python",
   "name": "python",
   "nbconvert_exporter": "python",
   "pygments_lexer": "ipython3",
   "version": "3.8.10"
  }
 },
 "nbformat": 4,
 "nbformat_minor": 5
}
